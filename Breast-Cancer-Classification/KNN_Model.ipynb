{
 "cells": [
  {
   "cell_type": "code",
   "execution_count": 1,
   "id": "34972ce4",
   "metadata": {},
   "outputs": [],
   "source": [
    "import pandas as pd\n",
    "import numpy as np\n",
    "from numpy import loadtxt\n",
    "from sklearn.metrics import accuracy_score\n",
    "import seaborn as sns\n",
    "from pickle import dump"
   ]
  },
  {
   "cell_type": "code",
   "execution_count": 2,
   "id": "1bebd5b3",
   "metadata": {},
   "outputs": [
    {
     "data": {
      "text/plain": [
       "(425, 30)"
      ]
     },
     "execution_count": 2,
     "metadata": {},
     "output_type": "execute_result"
    }
   ],
   "source": [
    "X_train = pd. read_csv(\"test_train_data/X_train_scaled.csv\")\n",
    "X_train.shape"
   ]
  },
  {
   "cell_type": "code",
   "execution_count": 3,
   "id": "c418aa81",
   "metadata": {},
   "outputs": [
    {
     "data": {
      "text/plain": [
       "(142, 30)"
      ]
     },
     "execution_count": 3,
     "metadata": {},
     "output_type": "execute_result"
    }
   ],
   "source": [
    "X_test = pd. read_csv(\"test_train_data/X_test_scaled.csv\")\n",
    "X_test.shape"
   ]
  },
  {
   "cell_type": "code",
   "execution_count": 4,
   "id": "507cf8f6",
   "metadata": {},
   "outputs": [
    {
     "data": {
      "text/plain": [
       "(425,)"
      ]
     },
     "execution_count": 4,
     "metadata": {},
     "output_type": "execute_result"
    }
   ],
   "source": [
    "y_train = pd. read_csv(\"test_train_data/encoded_y_train.csv\")\n",
    "y_train = y_train.iloc[:, 0]\n",
    "y_train.shape"
   ]
  },
  {
   "cell_type": "code",
   "execution_count": 5,
   "id": "00420f9b",
   "metadata": {},
   "outputs": [
    {
     "data": {
      "text/plain": [
       "(142,)"
      ]
     },
     "execution_count": 5,
     "metadata": {},
     "output_type": "execute_result"
    }
   ],
   "source": [
    "y_test = pd. read_csv(\"test_train_data/encoded_y_test.csv\")\n",
    "y_test = y_test.iloc[:, 0]\n",
    "y_test.shape"
   ]
  },
  {
   "cell_type": "code",
   "execution_count": 6,
   "id": "ac982065",
   "metadata": {},
   "outputs": [],
   "source": [
    "from sklearn.neighbors import KNeighborsClassifier\n",
    "from sklearn.metrics import classification_report , confusion_matrix"
   ]
  },
  {
   "cell_type": "code",
   "execution_count": 7,
   "id": "dcf5def0",
   "metadata": {},
   "outputs": [
    {
     "data": {
      "text/plain": [
       "KNeighborsClassifier()"
      ]
     },
     "execution_count": 7,
     "metadata": {},
     "output_type": "execute_result"
    }
   ],
   "source": [
    "knn_model = KNeighborsClassifier(n_neighbors = 5, metric = 'minkowski', p = 2)\n",
    "knn_model.fit(X_train, y_train)"
   ]
  },
  {
   "cell_type": "code",
   "execution_count": 8,
   "id": "0bdca2bd",
   "metadata": {},
   "outputs": [
    {
     "data": {
      "text/plain": [
       "array([1., 1., 0., 0., 1., 1., 1., 1., 0., 0., 1., 0., 0., 0., 1., 0., 0.,\n",
       "       0., 1., 0., 0., 1., 0., 0., 0., 0., 0., 0., 1., 0., 0., 0., 0., 0.,\n",
       "       0., 1., 0., 1., 0., 0., 1., 0., 0., 0., 0., 0., 0., 0., 0., 1., 1.,\n",
       "       1., 0., 0., 0., 0., 1., 1., 0., 0., 1., 1., 0., 0., 0., 1., 1., 0.,\n",
       "       0., 1., 1., 0., 1., 0., 0., 0., 0., 0., 0., 1., 0., 1., 1., 1., 1.,\n",
       "       1., 1., 0., 0., 0., 1., 0., 0., 0., 0., 1., 1., 0., 1., 1., 0., 1.,\n",
       "       1., 0., 0., 0., 1., 0., 0., 1., 0., 0., 1., 0., 1., 0., 0., 0., 1.,\n",
       "       0., 0., 0., 1., 0., 1., 1., 0., 0., 1., 1., 1., 0., 0., 0., 1., 0.,\n",
       "       0., 0., 1., 0., 1., 0.])"
      ]
     },
     "execution_count": 8,
     "metadata": {},
     "output_type": "execute_result"
    }
   ],
   "source": [
    "y_predict =knn_model.predict(X_test)\n",
    "y_predict"
   ]
  },
  {
   "cell_type": "code",
   "execution_count": 9,
   "id": "685d1c1f",
   "metadata": {},
   "outputs": [],
   "source": [
    "cm = confusion_matrix(y_test,y_predict)"
   ]
  },
  {
   "cell_type": "code",
   "execution_count": 10,
   "id": "fcf30d2c",
   "metadata": {},
   "outputs": [
    {
     "data": {
      "text/plain": [
       "<AxesSubplot:>"
      ]
     },
     "execution_count": 10,
     "metadata": {},
     "output_type": "execute_result"
    },
    {
     "data": {
      "image/png": "[encoded data removed]",
      "text/plain": [
       "<Figure size 432x288 with 2 Axes>"
      ]
     },
     "metadata": {
      "needs_background": "light"
     },
     "output_type": "display_data"
    }
   ],
   "source": [
    "sns.heatmap(cm ,annot=True)"
   ]
  },
  {
   "cell_type": "code",
   "execution_count": 11,
   "id": "08bee8f7",
   "metadata": {},
   "outputs": [
    {
     "name": "stdout",
     "output_type": "stream",
     "text": [
      "Train set Accuracy:  0.9788235294117648\n",
      "Test set Accuracy:  0.9577464788732394\n"
     ]
    }
   ],
   "source": [
    "from sklearn import metrics\n",
    "print(\"Train set Accuracy: \", metrics.accuracy_score(y_train, knn_model.predict(X_train)))\n",
    "print(\"Test set Accuracy: \", metrics.accuracy_score(y_test, knn_model.predict(X_test)))"
   ]
  },
  {
   "cell_type": "code",
   "execution_count": 12,
   "id": "d0c27017",
   "metadata": {},
   "outputs": [
    {
     "name": "stdout",
     "output_type": "stream",
     "text": [
      "              precision    recall  f1-score   support\n",
      "\n",
      "         0.0       0.97      0.97      0.97        88\n",
      "         1.0       0.94      0.94      0.94        54\n",
      "\n",
      "    accuracy                           0.96       142\n",
      "   macro avg       0.96      0.96      0.96       142\n",
      "weighted avg       0.96      0.96      0.96       142\n",
      "\n"
     ]
    }
   ],
   "source": [
    "print(classification_report(y_test,y_predict))"
   ]
  },
  {
   "cell_type": "code",
   "execution_count": 13,
   "id": "536b02bb",
   "metadata": {},
   "outputs": [
    {
     "name": "stdout",
     "output_type": "stream",
     "text": [
      "Train set Accuracy:  0.9788235294117648\n",
      "Test set Accuracy:  0.9577464788732394\n"
     ]
    }
   ],
   "source": [
    "k = 5\n",
    "\n",
    "neigh6 = KNeighborsClassifier(n_neighbors = k).fit(X_train,y_train)\n",
    "\n",
    "yhat6 = neigh6.predict(X_test)\n",
    "\n",
    "print(\"Train set Accuracy: \", metrics.accuracy_score(y_train, neigh6.predict(X_train)))\n",
    "print(\"Test set Accuracy: \", metrics.accuracy_score(y_test, yhat6))"
   ]
  },
  {
   "cell_type": "code",
   "execution_count": 14,
   "id": "25d57a9e",
   "metadata": {},
   "outputs": [
    {
     "data": {
      "text/plain": [
       "array([0.95070423, 0.95774648, 0.95774648, 0.96478873, 0.95774648,\n",
       "       0.96478873, 0.95774648, 0.96478873, 0.97183099, 0.96478873,\n",
       "       0.97183099, 0.96478873, 0.96478873, 0.96478873])"
      ]
     },
     "execution_count": 14,
     "metadata": {},
     "output_type": "execute_result"
    }
   ],
   "source": [
    "Ks = 15\n",
    "mean_acc = np.zeros((Ks-1))\n",
    "std_acc = np.zeros((Ks-1))\n",
    "ConfustionMx = [];\n",
    "for n in range(1,Ks):\n",
    "    \n",
    "    #Train Model and Predict  \n",
    "    neigh = KNeighborsClassifier(n_neighbors = n).fit(X_train,y_train)\n",
    "    yhat=neigh.predict(X_test)\n",
    "    mean_acc[n-1] = metrics.accuracy_score(y_test, yhat)\n",
    "\n",
    "    \n",
    "    std_acc[n-1]=np.std(yhat==y_test)/np.sqrt(yhat.shape[0])\n",
    "\n",
    "mean_acc"
   ]
  },
  {
   "cell_type": "code",
   "execution_count": 15,
   "id": "5a2bfa08",
   "metadata": {},
   "outputs": [
    {
     "data": {
      "image/png": "[encoded data removed]",
      "text/plain": [
       "<Figure size 432x288 with 1 Axes>"
      ]
     },
     "metadata": {
      "needs_background": "light"
     },
     "output_type": "display_data"
    }
   ],
   "source": [
    "import matplotlib.pyplot as plt\n",
    "plt.plot(range(1,Ks),mean_acc,'g')\n",
    "plt.fill_between(range(1,Ks),mean_acc - 1 * std_acc,mean_acc + 1 * std_acc, alpha=0.10)\n",
    "plt.legend(('Accuracy ', '+/- 3xstd'))\n",
    "plt.ylabel('Accuracy ')\n",
    "plt.xlabel('Number of Nabors (K)')\n",
    "plt.tight_layout()\n",
    "plt.show()"
   ]
  },
  {
   "cell_type": "code",
   "execution_count": 16,
   "id": "0e77fe59",
   "metadata": {},
   "outputs": [
    {
     "name": "stdout",
     "output_type": "stream",
     "text": [
      "The best accuracy was with 0.971830985915493 with k= 9\n"
     ]
    }
   ],
   "source": [
    "print( \"The best accuracy was with\", mean_acc.max(), \"with k=\", mean_acc.argmax()+1) "
   ]
  },
  {
   "cell_type": "code",
   "execution_count": 17,
   "id": "c6209bf1",
   "metadata": {},
   "outputs": [
    {
     "name": "stdout",
     "output_type": "stream",
     "text": [
      "Train set Accuracy:  0.9764705882352941\n",
      "Test set Accuracy:  0.971830985915493\n"
     ]
    }
   ],
   "source": [
    "k = 9\n",
    "\n",
    "neigh6 = KNeighborsClassifier(n_neighbors = k).fit(X_train,y_train)\n",
    "\n",
    "yhat6 = neigh6.predict(X_test)\n",
    "\n",
    "print(\"Train set Accuracy: \", metrics.accuracy_score(y_train, neigh6.predict(X_train)))\n",
    "print(\"Test set Accuracy: \", metrics.accuracy_score(y_test, yhat6))"
   ]
  },
  {
   "cell_type": "code",
   "execution_count": 18,
   "id": "0d95ea4b",
   "metadata": {},
   "outputs": [],
   "source": [
    "dump(neigh6, open('pickles/knn_trained_all.pkl', 'wb'))"
   ]
  },
  {
   "cell_type": "markdown",
   "id": "bcf4de60",
   "metadata": {},
   "source": [
    "## with SK feature dataset"
   ]
  },
  {
   "cell_type": "code",
   "execution_count": 19,
   "id": "be248d12",
   "metadata": {},
   "outputs": [
    {
     "data": {
      "text/plain": [
       "(425, 7)"
      ]
     },
     "execution_count": 19,
     "metadata": {},
     "output_type": "execute_result"
    }
   ],
   "source": [
    "X_train_sk = pd. read_csv(\"test_train_data/X_train_scaled_sk.csv\")\n",
    "X_train_sk.shape"
   ]
  },
  {
   "cell_type": "code",
   "execution_count": 20,
   "id": "a6051f3c",
   "metadata": {},
   "outputs": [
    {
     "data": {
      "text/plain": [
       "(142, 7)"
      ]
     },
     "execution_count": 20,
     "metadata": {},
     "output_type": "execute_result"
    }
   ],
   "source": [
    "X_test_sk = pd.read_csv(\"test_train_data/X_test_scaled_sk.csv\")\n",
    "X_test_sk.shape"
   ]
  },
  {
   "cell_type": "code",
   "execution_count": 21,
   "id": "eedbebcb",
   "metadata": {},
   "outputs": [
    {
     "data": {
      "text/plain": [
       "KNeighborsClassifier()"
      ]
     },
     "execution_count": 21,
     "metadata": {},
     "output_type": "execute_result"
    }
   ],
   "source": [
    "knn_model_sk = KNeighborsClassifier(n_neighbors = 5, metric = 'minkowski', p = 2)\n",
    "knn_model_sk.fit(X_train_sk, y_train)"
   ]
  },
  {
   "cell_type": "code",
   "execution_count": 22,
   "id": "f793fc74",
   "metadata": {},
   "outputs": [
    {
     "data": {
      "text/plain": [
       "array([1., 1., 0., 0., 1., 1., 1., 1., 0., 0., 1., 0., 0., 0., 1., 0., 0.,\n",
       "       0., 1., 1., 0., 1., 0., 0., 0., 0., 0., 0., 1., 0., 0., 0., 0., 0.,\n",
       "       0., 1., 0., 1., 0., 0., 1., 0., 0., 0., 0., 0., 0., 0., 0., 1., 1.,\n",
       "       0., 0., 0., 0., 0., 1., 1., 0., 0., 1., 1., 0., 0., 0., 1., 1., 0.,\n",
       "       0., 1., 1., 0., 1., 0., 0., 0., 1., 0., 0., 1., 0., 0., 1., 1., 1.,\n",
       "       1., 1., 0., 0., 0., 0., 0., 0., 0., 0., 1., 1., 0., 1., 1., 0., 1.,\n",
       "       1., 0., 0., 0., 1., 1., 0., 1., 0., 0., 1., 0., 1., 0., 0., 0., 1.,\n",
       "       0., 0., 0., 1., 0., 1., 1., 0., 0., 1., 1., 1., 0., 0., 1., 1., 0.,\n",
       "       0., 1., 1., 0., 1., 0.])"
      ]
     },
     "execution_count": 22,
     "metadata": {},
     "output_type": "execute_result"
    }
   ],
   "source": [
    "y_predict_sk =knn_model_sk.predict(X_test_sk)\n",
    "y_predict_sk"
   ]
  },
  {
   "cell_type": "code",
   "execution_count": 23,
   "id": "9e22ff98",
   "metadata": {},
   "outputs": [],
   "source": [
    "cm_sk = confusion_matrix(y_test,y_predict_sk)"
   ]
  },
  {
   "cell_type": "code",
   "execution_count": 24,
   "id": "3048dd1f",
   "metadata": {},
   "outputs": [
    {
     "data": {
      "text/plain": [
       "<AxesSubplot:>"
      ]
     },
     "execution_count": 24,
     "metadata": {},
     "output_type": "execute_result"
    },
    {
     "data": {
      "image/png": "[encoded data removed]",
      "text/plain": [
       "<Figure size 432x288 with 2 Axes>"
      ]
     },
     "metadata": {
      "needs_background": "light"
     },
     "output_type": "display_data"
    }
   ],
   "source": [
    "sns.heatmap(cm_sk ,annot=True)"
   ]
  },
  {
   "cell_type": "code",
   "execution_count": 25,
   "id": "1e00a7d5",
   "metadata": {},
   "outputs": [
    {
     "name": "stdout",
     "output_type": "stream",
     "text": [
      "Train set Accuracy:  0.9670588235294117\n",
      "Test set Accuracy:  0.9577464788732394\n"
     ]
    }
   ],
   "source": [
    "from sklearn import metrics\n",
    "print(\"Train set Accuracy: \", metrics.accuracy_score(y_train, knn_model_sk.predict(X_train_sk)))\n",
    "print(\"Test set Accuracy: \", metrics.accuracy_score(y_test, knn_model_sk.predict(X_test_sk)))"
   ]
  },
  {
   "cell_type": "code",
   "execution_count": 26,
   "id": "f06b1014",
   "metadata": {},
   "outputs": [
    {
     "name": "stdout",
     "output_type": "stream",
     "text": [
      "Train set Accuracy:  0.9670588235294117\n",
      "Test set Accuracy:  0.9577464788732394\n"
     ]
    }
   ],
   "source": [
    "k = 5\n",
    "\n",
    "neigh6_sk = KNeighborsClassifier(n_neighbors = k).fit(X_train_sk,y_train)\n",
    "\n",
    "yhat6_sk = neigh6_sk.predict(X_test_sk)\n",
    "\n",
    "print(\"Train set Accuracy: \", metrics.accuracy_score(y_train, neigh6_sk.predict(X_train_sk)))\n",
    "print(\"Test set Accuracy: \", metrics.accuracy_score(y_test, yhat6_sk))"
   ]
  },
  {
   "cell_type": "code",
   "execution_count": 27,
   "id": "a2d61546",
   "metadata": {},
   "outputs": [
    {
     "data": {
      "text/plain": [
       "array([0.96478873, 0.95774648, 0.96478873, 0.95070423, 0.95774648,\n",
       "       0.95774648, 0.96478873, 0.96478873, 0.96478873, 0.97183099,\n",
       "       0.96478873, 0.96478873, 0.96478873, 0.97183099])"
      ]
     },
     "execution_count": 27,
     "metadata": {},
     "output_type": "execute_result"
    }
   ],
   "source": [
    "Ks = 15\n",
    "mean_acc_sk = np.zeros((Ks-1))\n",
    "std_acc_sk = np.zeros((Ks-1))\n",
    "ConfustionMx_sk = [];\n",
    "for n in range(1,Ks):\n",
    "    \n",
    "    #Train Model and Predict  \n",
    "    neigh_sk = KNeighborsClassifier(n_neighbors = n).fit(X_train_sk,y_train)\n",
    "    yhat_sk = neigh_sk.predict(X_test_sk)\n",
    "    mean_acc_sk[n-1] = metrics.accuracy_score(y_test, yhat_sk)\n",
    "\n",
    "    \n",
    "    std_acc_sk[n-1]=np.std(yhat_sk==y_test)/np.sqrt(yhat_sk.shape[0])\n",
    "\n",
    "mean_acc_sk"
   ]
  },
  {
   "cell_type": "code",
   "execution_count": 28,
   "id": "377d0f17",
   "metadata": {},
   "outputs": [
    {
     "data": {
      "image/png": "[encoded data removed]",
      "text/plain": [
       "<Figure size 432x288 with 1 Axes>"
      ]
     },
     "metadata": {
      "needs_background": "light"
     },
     "output_type": "display_data"
    }
   ],
   "source": [
    "import matplotlib.pyplot as plt\n",
    "plt.plot(range(1,Ks),mean_acc_sk,'g')\n",
    "plt.fill_between(range(1,Ks),mean_acc_sk - 1 * std_acc_sk,mean_acc_sk + 1 * std_acc_sk, alpha=0.10)\n",
    "plt.legend(('Accuracy ', '+/- 3xstd'))\n",
    "plt.ylabel('Accuracy ')\n",
    "plt.xlabel('Number of Nabors (K)')\n",
    "plt.tight_layout()\n",
    "plt.show()"
   ]
  },
  {
   "cell_type": "code",
   "execution_count": 29,
   "id": "73ba5486",
   "metadata": {},
   "outputs": [
    {
     "name": "stdout",
     "output_type": "stream",
     "text": [
      "The best accuracy was with 0.971830985915493 with k= 10\n"
     ]
    }
   ],
   "source": [
    "print( \"The best accuracy was with\", mean_acc_sk.max(), \"with k=\", mean_acc_sk.argmax()+1) "
   ]
  },
  {
   "cell_type": "code",
   "execution_count": 30,
   "id": "74ee3b27",
   "metadata": {},
   "outputs": [
    {
     "name": "stdout",
     "output_type": "stream",
     "text": [
      "Train set Accuracy:  0.9482352941176471\n",
      "Test set Accuracy:  0.971830985915493\n"
     ]
    }
   ],
   "source": [
    "k = 10\n",
    "\n",
    "neigh6_sk = KNeighborsClassifier(n_neighbors = k).fit(X_train_sk,y_train)\n",
    "\n",
    "yhat6_sk = neigh6_sk.predict(X_test_sk)\n",
    "\n",
    "print(\"Train set Accuracy: \", metrics.accuracy_score(y_train, neigh6_sk.predict(X_train_sk)))\n",
    "print(\"Test set Accuracy: \", metrics.accuracy_score(y_test, yhat6_sk))"
   ]
  },
  {
   "cell_type": "code",
   "execution_count": 31,
   "id": "d88d46ad",
   "metadata": {},
   "outputs": [],
   "source": [
    "dump(neigh6_sk, open('pickles/knn_trained_sk.pkl', 'wb'))"
   ]
  },
  {
   "cell_type": "markdown",
   "id": "8d726693",
   "metadata": {},
   "source": [
    "## with Correlation feature dataset"
   ]
  },
  {
   "cell_type": "code",
   "execution_count": 32,
   "id": "aa2d6400",
   "metadata": {},
   "outputs": [
    {
     "data": {
      "text/plain": [
       "(425, 7)"
      ]
     },
     "execution_count": 32,
     "metadata": {},
     "output_type": "execute_result"
    }
   ],
   "source": [
    "X_train_cs = pd. read_csv(\"test_train_data/X_train_scaled_cs.csv\")\n",
    "X_train_cs.shape"
   ]
  },
  {
   "cell_type": "code",
   "execution_count": 33,
   "id": "96ea59a6",
   "metadata": {},
   "outputs": [
    {
     "data": {
      "text/plain": [
       "(142, 7)"
      ]
     },
     "execution_count": 33,
     "metadata": {},
     "output_type": "execute_result"
    }
   ],
   "source": [
    "X_test_cs = pd. read_csv(\"test_train_data/X_test_scaled_cs.csv\")\n",
    "X_test_cs.shape"
   ]
  },
  {
   "cell_type": "code",
   "execution_count": 34,
   "id": "e772ad76",
   "metadata": {},
   "outputs": [
    {
     "data": {
      "text/plain": [
       "KNeighborsClassifier()"
      ]
     },
     "execution_count": 34,
     "metadata": {},
     "output_type": "execute_result"
    }
   ],
   "source": [
    "knn_model_cs = KNeighborsClassifier(n_neighbors = 5, metric = 'minkowski', p = 2)\n",
    "knn_model_cs.fit(X_train_cs, y_train)"
   ]
  },
  {
   "cell_type": "code",
   "execution_count": 35,
   "id": "fbbbd1cb",
   "metadata": {},
   "outputs": [
    {
     "data": {
      "text/plain": [
       "array([1., 1., 0., 0., 1., 1., 0., 1., 0., 0., 1., 0., 0., 0., 1., 0., 0.,\n",
       "       0., 1., 0., 0., 1., 0., 0., 0., 0., 0., 0., 1., 0., 0., 0., 0., 0.,\n",
       "       0., 1., 0., 1., 0., 0., 1., 0., 0., 0., 0., 0., 0., 0., 0., 1., 1.,\n",
       "       1., 0., 0., 0., 0., 1., 1., 0., 0., 1., 1., 0., 0., 0., 1., 1., 0.,\n",
       "       0., 1., 1., 0., 1., 0., 0., 0., 0., 0., 0., 1., 0., 1., 1., 1., 1.,\n",
       "       1., 1., 0., 0., 0., 1., 0., 0., 0., 0., 1., 1., 0., 1., 1., 0., 1.,\n",
       "       1., 0., 0., 0., 1., 0., 0., 1., 0., 0., 1., 1., 1., 0., 0., 0., 1.,\n",
       "       0., 0., 0., 1., 0., 1., 1., 0., 0., 1., 1., 1., 0., 0., 0., 1., 0.,\n",
       "       0., 0., 1., 0., 1., 0.])"
      ]
     },
     "execution_count": 35,
     "metadata": {},
     "output_type": "execute_result"
    }
   ],
   "source": [
    "y_predict_cs =knn_model_cs.predict(X_test_cs)\n",
    "y_predict_cs"
   ]
  },
  {
   "cell_type": "code",
   "execution_count": 36,
   "id": "d29cc112",
   "metadata": {},
   "outputs": [],
   "source": [
    "cm_cs = confusion_matrix(y_test,y_predict_cs)"
   ]
  },
  {
   "cell_type": "code",
   "execution_count": 37,
   "id": "09ca378c",
   "metadata": {},
   "outputs": [
    {
     "data": {
      "text/plain": [
       "<AxesSubplot:>"
      ]
     },
     "execution_count": 37,
     "metadata": {},
     "output_type": "execute_result"
    },
    {
     "data": {
      "image/png": "[encoded data removed]",
      "text/plain": [
       "<Figure size 432x288 with 2 Axes>"
      ]
     },
     "metadata": {
      "needs_background": "light"
     },
     "output_type": "display_data"
    }
   ],
   "source": [
    "sns.heatmap(cm_cs ,annot=True)"
   ]
  },
  {
   "cell_type": "code",
   "execution_count": 38,
   "id": "63610c6f",
   "metadata": {},
   "outputs": [
    {
     "name": "stdout",
     "output_type": "stream",
     "text": [
      "Train set Accuracy:  0.971764705882353\n",
      "Test set Accuracy:  0.9436619718309859\n"
     ]
    }
   ],
   "source": [
    "from sklearn import metrics\n",
    "print(\"Train set Accuracy: \", metrics.accuracy_score(y_train, knn_model_cs.predict(X_train_cs)))\n",
    "print(\"Test set Accuracy: \", metrics.accuracy_score(y_test, knn_model_cs.predict(X_test_cs)))"
   ]
  },
  {
   "cell_type": "code",
   "execution_count": 39,
   "id": "8651d0cb",
   "metadata": {},
   "outputs": [
    {
     "name": "stdout",
     "output_type": "stream",
     "text": [
      "Train set Accuracy:  0.971764705882353\n",
      "Test set Accuracy:  0.9436619718309859\n"
     ]
    }
   ],
   "source": [
    "k = 5\n",
    "\n",
    "neigh6_cs = KNeighborsClassifier(n_neighbors = k).fit(X_train_cs,y_train)\n",
    "\n",
    "yhat6_cs = neigh6_cs.predict(X_test_cs)\n",
    "\n",
    "print(\"Train set Accuracy: \", metrics.accuracy_score(y_train, neigh6_cs.predict(X_train_cs)))\n",
    "print(\"Test set Accuracy: \", metrics.accuracy_score(y_test, yhat6_cs))"
   ]
  },
  {
   "cell_type": "code",
   "execution_count": 40,
   "id": "dbc47562",
   "metadata": {},
   "outputs": [
    {
     "data": {
      "text/plain": [
       "array([0.96478873, 0.95070423, 0.95070423, 0.93661972, 0.94366197,\n",
       "       0.93661972, 0.94366197, 0.94366197, 0.95070423, 0.94366197,\n",
       "       0.95070423, 0.94366197, 0.94366197, 0.94366197])"
      ]
     },
     "execution_count": 40,
     "metadata": {},
     "output_type": "execute_result"
    }
   ],
   "source": [
    "Ks = 15\n",
    "mean_acc_cs = np.zeros((Ks-1))\n",
    "std_acc_cs = np.zeros((Ks-1))\n",
    "ConfustionMx_cs = [];\n",
    "for n in range(1,Ks):\n",
    "    \n",
    "    #Train Model and Predict  \n",
    "    neigh_cs = KNeighborsClassifier(n_neighbors = n).fit(X_train_cs,y_train)\n",
    "    yhat_cs = neigh_cs.predict(X_test_cs)\n",
    "    mean_acc_cs[n-1] = metrics.accuracy_score(y_test, yhat_cs)\n",
    "\n",
    "    \n",
    "    std_acc_cs[n-1]=np.std(yhat_cs==y_test)/np.sqrt(yhat_cs.shape[0])\n",
    "\n",
    "mean_acc_cs"
   ]
  },
  {
   "cell_type": "code",
   "execution_count": 41,
   "id": "5fa47f41",
   "metadata": {},
   "outputs": [
    {
     "data": {
      "image/png": "[encoded data removed]",
      "text/plain": [
       "<Figure size 432x288 with 1 Axes>"
      ]
     },
     "metadata": {
      "needs_background": "light"
     },
     "output_type": "display_data"
    }
   ],
   "source": [
    "import matplotlib.pyplot as plt\n",
    "plt.plot(range(1,Ks),mean_acc_cs,'g')\n",
    "plt.fill_between(range(1,Ks),mean_acc_cs - 1 * std_acc_cs,mean_acc_cs + 1 * std_acc_cs, alpha=0.10)\n",
    "plt.legend(('Accuracy ', '+/- 3xstd'))\n",
    "plt.ylabel('Accuracy ')\n",
    "plt.xlabel('Number of Nabors (K)')\n",
    "plt.tight_layout()\n",
    "plt.show()"
   ]
  },
  {
   "cell_type": "code",
   "execution_count": 42,
   "id": "c5fe6328",
   "metadata": {},
   "outputs": [
    {
     "name": "stdout",
     "output_type": "stream",
     "text": [
      "The best accuracy was with 0.9647887323943662 with k= 1\n"
     ]
    }
   ],
   "source": [
    "print( \"The best accuracy was with\", mean_acc_cs.max(), \"with k=\", mean_acc_cs.argmax()+1) "
   ]
  },
  {
   "cell_type": "code",
   "execution_count": 43,
   "id": "ae9ba1a8",
   "metadata": {},
   "outputs": [
    {
     "name": "stdout",
     "output_type": "stream",
     "text": [
      "Train set Accuracy:  0.9670588235294117\n",
      "Test set Accuracy:  0.9436619718309859\n"
     ]
    }
   ],
   "source": [
    "k = 13\n",
    "\n",
    "neigh6_cs = KNeighborsClassifier(n_neighbors = k).fit(X_train_cs,y_train)\n",
    "\n",
    "yhat6_cs = neigh6_cs.predict(X_test_cs)\n",
    "\n",
    "print(\"Train set Accuracy: \", metrics.accuracy_score(y_train, neigh6_cs.predict(X_train_cs)))\n",
    "print(\"Test set Accuracy: \", metrics.accuracy_score(y_test, yhat6_cs))"
   ]
  },
  {
   "cell_type": "code",
   "execution_count": 44,
   "id": "42d5e71c",
   "metadata": {},
   "outputs": [],
   "source": [
    "dump(neigh6_cs, open('pickles/knn_trained_cs.pkl', 'wb'))"
   ]
  },
  {
   "cell_type": "code",
   "execution_count": null,
   "id": "0b321dbb",
   "metadata": {},
   "outputs": [],
   "source": []
  }
 ],
 "metadata": {
  "kernelspec": {
   "display_name": "Python 3",
   "language": "python",
   "name": "python3"
  },
  "language_info": {
   "codemirror_mode": {
    "name": "ipython",
    "version": 3
   },
   "file_extension": ".py",
   "mimetype": "text/x-python",
   "name": "python",
   "nbconvert_exporter": "python",
   "pygments_lexer": "ipython3",
   "version": "3.8.8"
  }
 },
 "nbformat": 4,
 "nbformat_minor": 5
}
